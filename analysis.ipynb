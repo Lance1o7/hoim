{
 "cells": [
  {
   "cell_type": "code",
   "execution_count": 10,
   "id": "84c32960-739f-4237-a319-5ad934677a2d",
   "metadata": {},
   "outputs": [],
   "source": [
    "# define project directory\n",
    "\n",
    "project_dir = '/home/connor/repositories/hoim'"
   ]
  },
  {
   "cell_type": "code",
   "execution_count": 11,
   "id": "1335fab4-f94b-4eaf-92ed-eefd53e8281b",
   "metadata": {},
   "outputs": [],
   "source": [
    "from utils import load_df, remove_duplicated, best_group\n",
    "import seaborn as sb\n",
    "sb.set_color_codes(\"muted\")\n",
    "\n",
    "import matplotlib.pyplot as plt\n",
    "import pandas as pd\n",
    "import numpy as np\n",
    "from os.path import join"
   ]
  },
  {
   "cell_type": "code",
   "execution_count": 12,
   "id": "06df4d28-fcf0-49e9-8a15-f209af6de521",
   "metadata": {},
   "outputs": [],
   "source": [
    "# Results dir\n",
    "results_dir = join(project_dir, 'results')\n",
    "\n",
    "# dict for all results\n",
    "dfs_all = {}"
   ]
  },
  {
   "cell_type": "code",
   "execution_count": 13,
   "id": "16f6a044-7e3f-4cd0-ba7c-ccb12a73891c",
   "metadata": {},
   "outputs": [
    {
     "data": {
      "application/vnd.jupyter.widget-view+json": {
       "model_id": "6c628ad24d424b05a82696a8eac76b45",
       "version_major": 2,
       "version_minor": 0
      },
      "text/plain": [
       "  0%|          | 0/2 [00:00<?, ?it/s]"
      ]
     },
     "metadata": {},
     "output_type": "display_data"
    },
    {
     "name": "stdout",
     "output_type": "stream",
     "text": [
      "(8192, 16)\n",
      "0 0\n",
      "sat_3rd (8192, 19)\n",
      "                                                 energy  valid\n",
      "csp_size rho d  coupling_const shil num_cycles                \n",
      "20       1   -1 1              1    256         0.53125    0.5\n"
     ]
    }
   ],
   "source": [
    "sat_dirs = [\n",
    "            'sat_3rd',\n",
    "            # 'sat_2nd',\n",
    "]\n",
    "sat_name = {sd: n for sd, n in zip(sat_dirs, ['3rd', '2nd'])}\n",
    "groupbys = [\n",
    "\n",
    "    ['rho', 'd', 'coupling_const', 'shil', 'num_cycles'],\n",
    "            ['min_gap', 'rho', 'd', 'coupling_const', 'shil','num_cycles'],\n",
    "]\n",
    "cols = ['coupling_const', 'shil', 'rho', 'd', 'min_gap', 'csp_size', 'normalize', 'valid', 'noise_std',\n",
    "        'times', 'step', 'num_steps', 'seed', 'energy', 'sample', 'problem', 'num_constraints', 'num_cycles']\n",
    "\n",
    "def load(sat_dir, groupby):\n",
    "    data_dir = join(results_dir, sat_dir)\n",
    "    df = load_df(data_dir, max_entries=None, cols=cols)\n",
    "    print(df.shape)\n",
    "    df = remove_duplicated(df, [c for c in cols if c in df.columns], True)\n",
    "    if 'min_gap' not in df.columns:\n",
    "        df['min_gap'] = 1\n",
    "    df['model'] = sat_dir\n",
    "    grouped = df[df['step'] == df['num_steps'] - 1].groupby(['csp_size'] + groupbys[-1] + ['model'])\n",
    "    \n",
    "    if 'min_gap' in df.columns:\n",
    "        df = df.query('min_gap in [1, 5, 10, 13]')\n",
    "    df['energy_fmin'] = 100 * (1 - (df['energy'] / df['num_constraints']))\n",
    "\n",
    "    return df\n",
    "\n",
    "for sat_dir, groupby in zip(sat_dirs, groupbys):\n",
    "    \n",
    "    df = load(sat_dir, groupby)\n",
    "    dfs_all[sat_dir] = df\n",
    "    \n",
    "    print(sat_dir, dfs_all[sat_dir].shape)\n",
    "    sort_by = ['csp_size', 'energy']\n",
    "    grouped = df[df['step'] == df['num_steps'] - 1].groupby(['csp_size'] + groupby)\n",
    "    print(grouped[['energy', 'valid']].mean().sort_values(by=sort_by).to_string())\n",
    " \n",
    "    "
   ]
  }
 ],
 "metadata": {
  "kernelspec": {
   "display_name": "Python 3 (ipykernel)",
   "language": "python",
   "name": "python3"
  },
  "language_info": {
   "codemirror_mode": {
    "name": "ipython",
    "version": 3
   },
   "file_extension": ".py",
   "mimetype": "text/x-python",
   "name": "python",
   "nbconvert_exporter": "python",
   "pygments_lexer": "ipython3",
   "version": "3.10.0"
  }
 },
 "nbformat": 4,
 "nbformat_minor": 5
}
